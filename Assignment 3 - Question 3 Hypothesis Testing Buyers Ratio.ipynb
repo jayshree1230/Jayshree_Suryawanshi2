{
 "cells": [
  {
   "cell_type": "markdown",
   "id": "b583448d",
   "metadata": {},
   "source": [
    "# Assignment 3 - Question 3 : Hypothesis Testing Exercise on Buyers Ratio Dataset"
   ]
  },
  {
   "cell_type": "markdown",
   "id": "1a4ef0fc",
   "metadata": {},
   "source": [
    "## Problem Statement : Sales of products in four different regions is tabulated for males and females. Find if male-female buyer rations are similar across regions."
   ]
  },
  {
   "cell_type": "markdown",
   "id": "81ed89b6",
   "metadata": {},
   "source": [
    "### We are going to conduct a Test of Independence using Chi-Square Test with contingency table.\n",
    "\n",
    "### We need to check whether the proportion of male to female buyer in any of the resign is different or the same in all."
   ]
  },
  {
   "cell_type": "code",
   "execution_count": 1,
   "id": "c080062c",
   "metadata": {
    "ExecuteTime": {
     "end_time": "2023-02-09T07:18:47.103247Z",
     "start_time": "2023-02-09T07:18:45.362311Z"
    }
   },
   "outputs": [],
   "source": [
    "import pandas as pd\n",
    "import numpy as np\n",
    "from scipy import stats\n",
    "from scipy.stats import norm"
   ]
  },
  {
   "cell_type": "code",
   "execution_count": 2,
   "id": "2f5f52fe",
   "metadata": {
    "ExecuteTime": {
     "end_time": "2023-02-09T07:26:28.007298Z",
     "start_time": "2023-02-09T07:26:27.974918Z"
    }
   },
   "outputs": [],
   "source": [
    "data = pd.read_csv('C:/Users/LENOVO/Desktop/Assignment Data Science/3rd/BuyerRatio.csv')"
   ]
  },
  {
   "cell_type": "code",
   "execution_count": 3,
   "id": "927942ee",
   "metadata": {
    "ExecuteTime": {
     "end_time": "2023-02-09T07:26:40.173628Z",
     "start_time": "2023-02-09T07:26:40.142876Z"
    }
   },
   "outputs": [
    {
     "data": {
      "text/html": [
       "<div>\n",
       "<style scoped>\n",
       "    .dataframe tbody tr th:only-of-type {\n",
       "        vertical-align: middle;\n",
       "    }\n",
       "\n",
       "    .dataframe tbody tr th {\n",
       "        vertical-align: top;\n",
       "    }\n",
       "\n",
       "    .dataframe thead th {\n",
       "        text-align: right;\n",
       "    }\n",
       "</style>\n",
       "<table border=\"1\" class=\"dataframe\">\n",
       "  <thead>\n",
       "    <tr style=\"text-align: right;\">\n",
       "      <th></th>\n",
       "      <th>Observed Values</th>\n",
       "      <th>East</th>\n",
       "      <th>West</th>\n",
       "      <th>North</th>\n",
       "      <th>South</th>\n",
       "    </tr>\n",
       "  </thead>\n",
       "  <tbody>\n",
       "    <tr>\n",
       "      <th>0</th>\n",
       "      <td>Males</td>\n",
       "      <td>50</td>\n",
       "      <td>142</td>\n",
       "      <td>131</td>\n",
       "      <td>70</td>\n",
       "    </tr>\n",
       "    <tr>\n",
       "      <th>1</th>\n",
       "      <td>Females</td>\n",
       "      <td>435</td>\n",
       "      <td>1523</td>\n",
       "      <td>1356</td>\n",
       "      <td>750</td>\n",
       "    </tr>\n",
       "  </tbody>\n",
       "</table>\n",
       "</div>"
      ],
      "text/plain": [
       "  Observed Values  East  West  North  South\n",
       "0           Males    50   142    131     70\n",
       "1         Females   435  1523   1356    750"
      ]
     },
     "execution_count": 3,
     "metadata": {},
     "output_type": "execute_result"
    }
   ],
   "source": [
    "data"
   ]
  },
  {
   "cell_type": "markdown",
   "id": "57ff1a7e",
   "metadata": {
    "ExecuteTime": {
     "end_time": "2023-02-09T07:49:22.270671Z",
     "start_time": "2023-02-09T07:49:22.256193Z"
    }
   },
   "source": [
    "# Declare Null and Alternate Hypothesis"
   ]
  },
  {
   "cell_type": "markdown",
   "id": "7e46600d",
   "metadata": {},
   "source": [
    "### Null Hypothesis (Ho) : There is no association or dependency between the gender based buyer rations across regions\n",
    "### Alternative Hypthosis (Ha) : There is a significant association or dependency between the gender based buyer rations across regions"
   ]
  },
  {
   "cell_type": "markdown",
   "id": "1a5de116",
   "metadata": {
    "ExecuteTime": {
     "end_time": "2023-02-09T07:54:06.840526Z",
     "start_time": "2023-02-09T07:54:06.831887Z"
    }
   },
   "source": [
    "### Level of significance (α) = 0.05"
   ]
  },
  {
   "cell_type": "code",
   "execution_count": 14,
   "id": "e676fda5",
   "metadata": {
    "ExecuteTime": {
     "end_time": "2023-02-09T08:12:02.880575Z",
     "start_time": "2023-02-09T08:12:02.857088Z"
    }
   },
   "outputs": [
    {
     "data": {
      "text/plain": [
       "array([[  50,  142,  131,   70],\n",
       "       [ 435, 1523, 1356,  750]])"
      ]
     },
     "execution_count": 14,
     "metadata": {},
     "output_type": "execute_result"
    }
   ],
   "source": [
    "# Make diamensional array\n",
    "\n",
    "obs = np.array([[50,142,131,70],[435,1523,1356,750]])\n",
    "obs"
   ]
  },
  {
   "cell_type": "markdown",
   "id": "6fcd4b7a",
   "metadata": {},
   "source": [
    "## Applying Chi-Square Contingency Table to convert observed value into expected value"
   ]
  },
  {
   "cell_type": "code",
   "execution_count": 19,
   "id": "78acdf33",
   "metadata": {
    "ExecuteTime": {
     "end_time": "2023-02-09T09:34:57.460480Z",
     "start_time": "2023-02-09T09:34:57.448995Z"
    }
   },
   "outputs": [
    {
     "name": "stdout",
     "output_type": "stream",
     "text": [
      "1.595945538661058 \n",
      " 0.6603094907091882 \n",
      " 3 \n",
      " [[  42.76531299  146.81287862  131.11756787   72.30424052]\n",
      " [ 442.23468701 1518.18712138 1355.88243213  747.69575948]]\n"
     ]
    }
   ],
   "source": [
    "test_stat, p_value, dof, exp_val_array = stats.chi2_contingency(obs)\n",
    "\n",
    "print(test_stat,\"\\n\", p_value,\"\\n\", dof,\"\\n\", exp_val_array)"
   ]
  },
  {
   "cell_type": "code",
   "execution_count": 20,
   "id": "1f133b7d",
   "metadata": {
    "ExecuteTime": {
     "end_time": "2023-02-09T09:42:08.811508Z",
     "start_time": "2023-02-09T09:42:08.792851Z"
    }
   },
   "outputs": [
    {
     "data": {
      "text/plain": [
       "0.6603094907091882"
      ]
     },
     "execution_count": 20,
     "metadata": {},
     "output_type": "execute_result"
    }
   ],
   "source": [
    "p_value"
   ]
  },
  {
   "cell_type": "code",
   "execution_count": 21,
   "id": "79ee8373",
   "metadata": {
    "ExecuteTime": {
     "end_time": "2023-02-09T09:42:17.528259Z",
     "start_time": "2023-02-09T09:42:17.517573Z"
    }
   },
   "outputs": [
    {
     "name": "stdout",
     "output_type": "stream",
     "text": [
      "We fail to reject Null hypothesis\n"
     ]
    }
   ],
   "source": [
    "alpha = 0.05\n",
    "\n",
    "if p_value <= alpha:\n",
    "    print('We reject Null Hypothesis')\n",
    "else:\n",
    "    print('We fail to reject Null hypothesis')"
   ]
  },
  {
   "cell_type": "markdown",
   "id": "89347e36",
   "metadata": {},
   "source": [
    "# We fail to reject Null Hypothesis because of lack evidence. Therefore, there is no association or dependency between male-female buyers rations and are similar across regions."
   ]
  },
  {
   "cell_type": "code",
   "execution_count": null,
   "id": "70f0a952",
   "metadata": {},
   "outputs": [],
   "source": []
  }
 ],
 "metadata": {
  "kernelspec": {
   "display_name": "Python 3 (ipykernel)",
   "language": "python",
   "name": "python3"
  },
  "language_info": {
   "codemirror_mode": {
    "name": "ipython",
    "version": 3
   },
   "file_extension": ".py",
   "mimetype": "text/x-python",
   "name": "python",
   "nbconvert_exporter": "python",
   "pygments_lexer": "ipython3",
   "version": "3.9.13"
  }
 },
 "nbformat": 4,
 "nbformat_minor": 5
}
