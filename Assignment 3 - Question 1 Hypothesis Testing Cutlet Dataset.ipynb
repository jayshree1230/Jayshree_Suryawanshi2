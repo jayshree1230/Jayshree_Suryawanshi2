{
 "cells": [
  {
   "cell_type": "markdown",
   "id": "f17e43af",
   "metadata": {},
   "source": [
    "# Assignment 3 - Question 1 : Hypothesis Testing Exercise on Cutlets Dataset"
   ]
  },
  {
   "cell_type": "markdown",
   "id": "0bf05b0e",
   "metadata": {
    "ExecuteTime": {
     "end_time": "2023-02-07T04:38:04.140062Z",
     "start_time": "2023-02-07T04:38:04.121131Z"
    }
   },
   "source": [
    "## Problem Statement : A F&B manager wants to determine whether there is any significant difference in the diameter of the cutlet between two units. A randomly selected sample of cutlets was collected from both units and measured? Analyze the data and draw inferences at 5% significance level. Please state the assumptions and tests that you carried out to check validity of the assumptions.\n"
   ]
  },
  {
   "cell_type": "code",
   "execution_count": null,
   "id": "c49b8aa9",
   "metadata": {},
   "outputs": [],
   "source": []
  },
  {
   "cell_type": "markdown",
   "id": "646d7f25",
   "metadata": {},
   "source": [
    "# We are going to conduct a 2 - tailed and 2 -  sample\n",
    " \n",
    " ## we need to check whether the mean of both unit's sample are different and is there any significance difference between two unit's samples?"
   ]
  },
  {
   "cell_type": "code",
   "execution_count": 12,
   "id": "951c9e94",
   "metadata": {
    "ExecuteTime": {
     "end_time": "2023-02-07T07:25:42.188073Z",
     "start_time": "2023-02-07T07:25:41.903138Z"
    }
   },
   "outputs": [],
   "source": [
    "import pandas as pd\n",
    "import numpy as np\n",
    "from scipy import stats\n",
    "from scipy.stats import norm\n",
    "import seaborn as sns"
   ]
  },
  {
   "cell_type": "code",
   "execution_count": 5,
   "id": "8f4428bf",
   "metadata": {
    "ExecuteTime": {
     "end_time": "2023-02-07T07:17:03.491446Z",
     "start_time": "2023-02-07T07:17:03.474768Z"
    }
   },
   "outputs": [],
   "source": [
    "cutlets = pd.read_csv('C:/Users/LENOVO/Desktop/Assignment Data Science/3rd/Cutlets.csv')"
   ]
  },
  {
   "cell_type": "code",
   "execution_count": 7,
   "id": "2f3dac6c",
   "metadata": {
    "ExecuteTime": {
     "end_time": "2023-02-07T07:17:29.922629Z",
     "start_time": "2023-02-07T07:17:29.896576Z"
    }
   },
   "outputs": [
    {
     "data": {
      "text/plain": [
       "(35, 2)"
      ]
     },
     "execution_count": 7,
     "metadata": {},
     "output_type": "execute_result"
    }
   ],
   "source": [
    "cutlets.shape"
   ]
  },
  {
   "cell_type": "code",
   "execution_count": 8,
   "id": "78f787e0",
   "metadata": {
    "ExecuteTime": {
     "end_time": "2023-02-07T07:17:39.913094Z",
     "start_time": "2023-02-07T07:17:39.897468Z"
    }
   },
   "outputs": [
    {
     "data": {
      "text/html": [
       "<div>\n",
       "<style scoped>\n",
       "    .dataframe tbody tr th:only-of-type {\n",
       "        vertical-align: middle;\n",
       "    }\n",
       "\n",
       "    .dataframe tbody tr th {\n",
       "        vertical-align: top;\n",
       "    }\n",
       "\n",
       "    .dataframe thead th {\n",
       "        text-align: right;\n",
       "    }\n",
       "</style>\n",
       "<table border=\"1\" class=\"dataframe\">\n",
       "  <thead>\n",
       "    <tr style=\"text-align: right;\">\n",
       "      <th></th>\n",
       "      <th>Unit A</th>\n",
       "      <th>Unit B</th>\n",
       "    </tr>\n",
       "  </thead>\n",
       "  <tbody>\n",
       "    <tr>\n",
       "      <th>0</th>\n",
       "      <td>6.8090</td>\n",
       "      <td>6.7703</td>\n",
       "    </tr>\n",
       "    <tr>\n",
       "      <th>1</th>\n",
       "      <td>6.4376</td>\n",
       "      <td>7.5093</td>\n",
       "    </tr>\n",
       "    <tr>\n",
       "      <th>2</th>\n",
       "      <td>6.9157</td>\n",
       "      <td>6.7300</td>\n",
       "    </tr>\n",
       "    <tr>\n",
       "      <th>3</th>\n",
       "      <td>7.3012</td>\n",
       "      <td>6.7878</td>\n",
       "    </tr>\n",
       "    <tr>\n",
       "      <th>4</th>\n",
       "      <td>7.4488</td>\n",
       "      <td>7.1522</td>\n",
       "    </tr>\n",
       "  </tbody>\n",
       "</table>\n",
       "</div>"
      ],
      "text/plain": [
       "   Unit A  Unit B\n",
       "0  6.8090  6.7703\n",
       "1  6.4376  7.5093\n",
       "2  6.9157  6.7300\n",
       "3  7.3012  6.7878\n",
       "4  7.4488  7.1522"
      ]
     },
     "execution_count": 8,
     "metadata": {},
     "output_type": "execute_result"
    }
   ],
   "source": [
    "cutlets.head()"
   ]
  },
  {
   "cell_type": "markdown",
   "id": "7fd71712",
   "metadata": {},
   "source": [
    "# Declare Null Hypothesis and Alternate Hypothesis"
   ]
  },
  {
   "cell_type": "markdown",
   "id": "ec9952dd",
   "metadata": {
    "ExecuteTime": {
     "end_time": "2023-02-07T07:20:23.954083Z",
     "start_time": "2023-02-07T07:20:23.936121Z"
    }
   },
   "source": [
    "## Null Hypothesis : mu_A = mu_B\n",
    "## Alternate Hypothesis : mu_A != mu_B\n",
    "\n",
    "### where, mu_A and mu_B are average value of unit A and Unit B respectively"
   ]
  },
  {
   "cell_type": "markdown",
   "id": "5306377f",
   "metadata": {
    "ExecuteTime": {
     "end_time": "2023-02-07T07:24:02.833329Z",
     "start_time": "2023-02-07T07:24:02.823681Z"
    }
   },
   "source": [
    "# Level of significance = alpha = 0.05"
   ]
  },
  {
   "cell_type": "code",
   "execution_count": 11,
   "id": "00bf8c98",
   "metadata": {
    "ExecuteTime": {
     "end_time": "2023-02-07T07:24:47.529424Z",
     "start_time": "2023-02-07T07:24:47.516122Z"
    }
   },
   "outputs": [],
   "source": [
    "alpha = 0.05 #LEVEL OF SIGNIFICANCE"
   ]
  },
  {
   "cell_type": "code",
   "execution_count": 14,
   "id": "d9a47815",
   "metadata": {
    "ExecuteTime": {
     "end_time": "2023-02-07T07:48:51.783647Z",
     "start_time": "2023-02-07T07:48:51.768813Z"
    }
   },
   "outputs": [
    {
     "data": {
      "text/plain": [
       "0     6.8090\n",
       "1     6.4376\n",
       "2     6.9157\n",
       "3     7.3012\n",
       "4     7.4488\n",
       "5     7.3871\n",
       "6     6.8755\n",
       "7     7.0621\n",
       "8     6.6840\n",
       "9     6.8236\n",
       "10    7.3930\n",
       "11    7.5169\n",
       "12    6.9246\n",
       "13    6.9256\n",
       "14    6.5797\n",
       "15    6.8394\n",
       "16    6.5970\n",
       "17    7.2705\n",
       "18    7.2828\n",
       "19    7.3495\n",
       "20    6.9438\n",
       "21    7.1560\n",
       "22    6.5341\n",
       "23    7.2854\n",
       "24    6.9952\n",
       "25    6.8568\n",
       "26    7.2163\n",
       "27    6.6801\n",
       "28    6.9431\n",
       "29    7.0852\n",
       "30    6.7794\n",
       "31    7.2783\n",
       "32    7.1561\n",
       "33    7.3943\n",
       "34    6.9405\n",
       "Name: Unit A, dtype: float64"
      ]
     },
     "execution_count": 14,
     "metadata": {},
     "output_type": "execute_result"
    }
   ],
   "source": [
    "unitA = pd.Series(cutlets.iloc[:,0])\n",
    "unitA"
   ]
  },
  {
   "cell_type": "code",
   "execution_count": 15,
   "id": "3987467e",
   "metadata": {
    "ExecuteTime": {
     "end_time": "2023-02-07T07:50:49.491911Z",
     "start_time": "2023-02-07T07:50:49.473886Z"
    }
   },
   "outputs": [
    {
     "data": {
      "text/plain": [
       "0     6.7703\n",
       "1     7.5093\n",
       "2     6.7300\n",
       "3     6.7878\n",
       "4     7.1522\n",
       "5     6.8110\n",
       "6     7.2212\n",
       "7     6.6606\n",
       "8     7.2402\n",
       "9     7.0503\n",
       "10    6.8810\n",
       "11    7.4059\n",
       "12    6.7652\n",
       "13    6.0380\n",
       "14    7.1581\n",
       "15    7.0240\n",
       "16    6.6672\n",
       "17    7.4314\n",
       "18    7.3070\n",
       "19    6.7478\n",
       "20    6.8889\n",
       "21    7.4220\n",
       "22    6.5217\n",
       "23    7.1688\n",
       "24    6.7594\n",
       "25    6.9399\n",
       "26    7.0133\n",
       "27    6.9182\n",
       "28    6.3346\n",
       "29    7.5459\n",
       "30    7.0992\n",
       "31    7.1180\n",
       "32    6.6965\n",
       "33    6.5780\n",
       "34    7.3875\n",
       "Name: Unit B, dtype: float64"
      ]
     },
     "execution_count": 15,
     "metadata": {},
     "output_type": "execute_result"
    }
   ],
   "source": [
    "unitB = pd.Series(cutlets.iloc[:,1])\n",
    "unitB"
   ]
  },
  {
   "cell_type": "code",
   "execution_count": 16,
   "id": "827f9317",
   "metadata": {
    "ExecuteTime": {
     "end_time": "2023-02-07T07:51:59.055323Z",
     "start_time": "2023-02-07T07:51:59.041895Z"
    }
   },
   "outputs": [
    {
     "data": {
      "text/plain": [
       "Ttest_indResult(statistic=0.7228688704678063, pvalue=0.4722394724599501)"
      ]
     },
     "execution_count": 16,
     "metadata": {},
     "output_type": "execute_result"
    }
   ],
   "source": [
    "# 2-sample 2-tail ttest:   stats.ttest_ind(array1,array2)\n",
    "# ind -> independent samples\n",
    "\n",
    "p_value = stats.ttest_ind(unitA,unitB)\n",
    "p_value"
   ]
  },
  {
   "cell_type": "code",
   "execution_count": 17,
   "id": "43ba3c4d",
   "metadata": {
    "ExecuteTime": {
     "end_time": "2023-02-07T07:52:21.046647Z",
     "start_time": "2023-02-07T07:52:21.028661Z"
    }
   },
   "outputs": [
    {
     "data": {
      "text/plain": [
       "0.4722394724599501"
      ]
     },
     "execution_count": 17,
     "metadata": {},
     "output_type": "execute_result"
    }
   ],
   "source": [
    "p_value[1]"
   ]
  },
  {
   "cell_type": "code",
   "execution_count": 18,
   "id": "bf914474",
   "metadata": {
    "ExecuteTime": {
     "end_time": "2023-02-07T09:32:54.645553Z",
     "start_time": "2023-02-07T09:32:54.630798Z"
    }
   },
   "outputs": [
    {
     "data": {
      "text/plain": [
       "'\\nCompare p_value with alpha (significance level)\\n\\nif p_value is less than alpha then we reject null phypothesis\\n\\nand if p_value is more than alpha then we fail to reject hull hypothesis\\n\\n'"
      ]
     },
     "execution_count": 18,
     "metadata": {},
     "output_type": "execute_result"
    }
   ],
   "source": [
    "'''\n",
    "Compare p_value with alpha (significance level)\n",
    "\n",
    "if p_value is less than alpha then we reject null phypothesis\n",
    "\n",
    "and if p_value is more than alpha then we fail to reject hull hypothesis\n",
    "\n",
    "'''"
   ]
  },
  {
   "cell_type": "code",
   "execution_count": 24,
   "id": "74bde577",
   "metadata": {
    "ExecuteTime": {
     "end_time": "2023-02-07T09:37:47.444995Z",
     "start_time": "2023-02-07T09:37:47.432707Z"
    }
   },
   "outputs": [
    {
     "name": "stdout",
     "output_type": "stream",
     "text": [
      "We fail to reject Null hypothesis\n"
     ]
    }
   ],
   "source": [
    "alpha = 0.05\n",
    "\n",
    "if p_value[1] <= alpha:\n",
    "    print('We reject Null Hypothesis')\n",
    "else:\n",
    "    print('We fail to reject Null hypothesis')"
   ]
  },
  {
   "cell_type": "markdown",
   "id": "35f1e06e",
   "metadata": {},
   "source": [
    "# Hence we fail to reject null hypothessis beacause of lack of evidence. There is no significance differenace between sample of unit A & B."
   ]
  },
  {
   "cell_type": "code",
   "execution_count": null,
   "id": "e1ca2504",
   "metadata": {},
   "outputs": [],
   "source": []
  }
 ],
 "metadata": {
  "kernelspec": {
   "display_name": "Python 3 (ipykernel)",
   "language": "python",
   "name": "python3"
  },
  "language_info": {
   "codemirror_mode": {
    "name": "ipython",
    "version": 3
   },
   "file_extension": ".py",
   "mimetype": "text/x-python",
   "name": "python",
   "nbconvert_exporter": "python",
   "pygments_lexer": "ipython3",
   "version": "3.9.13"
  }
 },
 "nbformat": 4,
 "nbformat_minor": 5
}
