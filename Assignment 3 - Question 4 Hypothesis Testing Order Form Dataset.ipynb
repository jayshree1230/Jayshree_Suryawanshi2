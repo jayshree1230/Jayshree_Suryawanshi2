{
 "cells": [
  {
   "cell_type": "markdown",
   "id": "33832df9",
   "metadata": {},
   "source": [
    "# Assignment 3 - Question 4 : Hypothesis Testing Exercise Customer Order Form"
   ]
  },
  {
   "cell_type": "markdown",
   "id": "1669ff1c",
   "metadata": {},
   "source": [
    "# Problem Statement : TeleCall uses 4 centers around the globe to process customer order forms. They audit a certain %  of the customer order forms. Any error in order form renders it defective and has to be reworked before processing.  The manager wants to check whether the defective %  varies by centre. Please analyze the data at 5% significance level and help the manager draw appropriate inferences\n"
   ]
  },
  {
   "cell_type": "markdown",
   "id": "2242fe50",
   "metadata": {},
   "source": [
    "### We are going to conduct a Test of Independence using Chi-Square Test with Contingency Table.\n",
    "\n",
    "### We need to check whether there is an impact of center on defective form %"
   ]
  },
  {
   "cell_type": "code",
   "execution_count": 2,
   "id": "cb21d159",
   "metadata": {
    "ExecuteTime": {
     "end_time": "2023-02-09T11:19:56.644863Z",
     "start_time": "2023-02-09T11:19:56.634235Z"
    }
   },
   "outputs": [],
   "source": [
    "import pandas as pd\n",
    "import numpy as np\n",
    "from scipy import stats\n",
    "from scipy.stats import norm"
   ]
  },
  {
   "cell_type": "code",
   "execution_count": 5,
   "id": "06bc5e10",
   "metadata": {
    "ExecuteTime": {
     "end_time": "2023-02-09T11:26:19.744072Z",
     "start_time": "2023-02-09T11:26:19.718377Z"
    }
   },
   "outputs": [
    {
     "data": {
      "text/html": [
       "<div>\n",
       "<style scoped>\n",
       "    .dataframe tbody tr th:only-of-type {\n",
       "        vertical-align: middle;\n",
       "    }\n",
       "\n",
       "    .dataframe tbody tr th {\n",
       "        vertical-align: top;\n",
       "    }\n",
       "\n",
       "    .dataframe thead th {\n",
       "        text-align: right;\n",
       "    }\n",
       "</style>\n",
       "<table border=\"1\" class=\"dataframe\">\n",
       "  <thead>\n",
       "    <tr style=\"text-align: right;\">\n",
       "      <th></th>\n",
       "      <th>Phillippines</th>\n",
       "      <th>Indonesia</th>\n",
       "      <th>Malta</th>\n",
       "      <th>India</th>\n",
       "    </tr>\n",
       "  </thead>\n",
       "  <tbody>\n",
       "    <tr>\n",
       "      <th>0</th>\n",
       "      <td>Error Free</td>\n",
       "      <td>Error Free</td>\n",
       "      <td>Defective</td>\n",
       "      <td>Error Free</td>\n",
       "    </tr>\n",
       "    <tr>\n",
       "      <th>1</th>\n",
       "      <td>Error Free</td>\n",
       "      <td>Error Free</td>\n",
       "      <td>Error Free</td>\n",
       "      <td>Defective</td>\n",
       "    </tr>\n",
       "    <tr>\n",
       "      <th>2</th>\n",
       "      <td>Error Free</td>\n",
       "      <td>Defective</td>\n",
       "      <td>Defective</td>\n",
       "      <td>Error Free</td>\n",
       "    </tr>\n",
       "    <tr>\n",
       "      <th>3</th>\n",
       "      <td>Error Free</td>\n",
       "      <td>Error Free</td>\n",
       "      <td>Error Free</td>\n",
       "      <td>Error Free</td>\n",
       "    </tr>\n",
       "    <tr>\n",
       "      <th>4</th>\n",
       "      <td>Error Free</td>\n",
       "      <td>Error Free</td>\n",
       "      <td>Defective</td>\n",
       "      <td>Error Free</td>\n",
       "    </tr>\n",
       "    <tr>\n",
       "      <th>5</th>\n",
       "      <td>Error Free</td>\n",
       "      <td>Error Free</td>\n",
       "      <td>Error Free</td>\n",
       "      <td>Error Free</td>\n",
       "    </tr>\n",
       "    <tr>\n",
       "      <th>6</th>\n",
       "      <td>Error Free</td>\n",
       "      <td>Defective</td>\n",
       "      <td>Error Free</td>\n",
       "      <td>Error Free</td>\n",
       "    </tr>\n",
       "    <tr>\n",
       "      <th>7</th>\n",
       "      <td>Error Free</td>\n",
       "      <td>Error Free</td>\n",
       "      <td>Error Free</td>\n",
       "      <td>Error Free</td>\n",
       "    </tr>\n",
       "  </tbody>\n",
       "</table>\n",
       "</div>"
      ],
      "text/plain": [
       "  Phillippines   Indonesia       Malta       India\n",
       "0   Error Free  Error Free   Defective  Error Free\n",
       "1   Error Free  Error Free  Error Free   Defective\n",
       "2   Error Free   Defective   Defective  Error Free\n",
       "3   Error Free  Error Free  Error Free  Error Free\n",
       "4   Error Free  Error Free   Defective  Error Free\n",
       "5   Error Free  Error Free  Error Free  Error Free\n",
       "6   Error Free   Defective  Error Free  Error Free\n",
       "7   Error Free  Error Free  Error Free  Error Free"
      ]
     },
     "execution_count": 5,
     "metadata": {},
     "output_type": "execute_result"
    }
   ],
   "source": [
    "data = pd.read_csv('C:/Users/LENOVO/Desktop/Assignment Data Science/3rd/Costomer_OrderForm.csv')\n",
    "\n",
    "data.head(8)"
   ]
  },
  {
   "cell_type": "markdown",
   "id": "bf741286",
   "metadata": {},
   "source": [
    "# Declare Null and Alternate Hypothesis"
   ]
  },
  {
   "cell_type": "markdown",
   "id": "d2a73a41",
   "metadata": {},
   "source": [
    "### Null Hypothesis (Ho) : Independence of categorical variables (customer order forms defective % does not varies by centre) \n",
    "\n",
    "### Alternative hypothesis (Ha) : Dependence of categorical variables (customer order forms defective % varies by centre)"
   ]
  },
  {
   "cell_type": "code",
   "execution_count": 6,
   "id": "53a30ec6",
   "metadata": {
    "ExecuteTime": {
     "end_time": "2023-02-09T11:45:04.096354Z",
     "start_time": "2023-02-09T11:45:04.079409Z"
    }
   },
   "outputs": [
    {
     "data": {
      "text/plain": [
       "(300, 4)"
      ]
     },
     "execution_count": 6,
     "metadata": {},
     "output_type": "execute_result"
    }
   ],
   "source": [
    "data.shape"
   ]
  },
  {
   "cell_type": "code",
   "execution_count": 7,
   "id": "e9335d6d",
   "metadata": {
    "ExecuteTime": {
     "end_time": "2023-02-09T11:45:29.493085Z",
     "start_time": "2023-02-09T11:45:29.478133Z"
    }
   },
   "outputs": [
    {
     "data": {
      "text/plain": [
       "Error Free    271\n",
       "Defective      29\n",
       "Name: Phillippines, dtype: int64"
      ]
     },
     "execution_count": 7,
     "metadata": {},
     "output_type": "execute_result"
    }
   ],
   "source": [
    "data.Phillippines.value_counts()"
   ]
  },
  {
   "cell_type": "code",
   "execution_count": 8,
   "id": "82ae6a42",
   "metadata": {
    "ExecuteTime": {
     "end_time": "2023-02-09T11:45:50.473555Z",
     "start_time": "2023-02-09T11:45:50.453703Z"
    }
   },
   "outputs": [
    {
     "data": {
      "text/plain": [
       "Error Free    267\n",
       "Defective      33\n",
       "Name: Indonesia, dtype: int64"
      ]
     },
     "execution_count": 8,
     "metadata": {},
     "output_type": "execute_result"
    }
   ],
   "source": [
    "data.Indonesia.value_counts()"
   ]
  },
  {
   "cell_type": "code",
   "execution_count": 9,
   "id": "c8f82bd4",
   "metadata": {
    "ExecuteTime": {
     "end_time": "2023-02-09T11:46:06.707448Z",
     "start_time": "2023-02-09T11:46:06.689509Z"
    }
   },
   "outputs": [
    {
     "data": {
      "text/plain": [
       "Error Free    269\n",
       "Defective      31\n",
       "Name: Malta, dtype: int64"
      ]
     },
     "execution_count": 9,
     "metadata": {},
     "output_type": "execute_result"
    }
   ],
   "source": [
    "data.Malta.value_counts()"
   ]
  },
  {
   "cell_type": "code",
   "execution_count": 10,
   "id": "e02298d2",
   "metadata": {
    "ExecuteTime": {
     "end_time": "2023-02-09T11:46:22.590741Z",
     "start_time": "2023-02-09T11:46:22.578187Z"
    }
   },
   "outputs": [
    {
     "data": {
      "text/plain": [
       "Error Free    280\n",
       "Defective      20\n",
       "Name: India, dtype: int64"
      ]
     },
     "execution_count": 10,
     "metadata": {},
     "output_type": "execute_result"
    }
   ],
   "source": [
    "data.India.value_counts()"
   ]
  },
  {
   "cell_type": "code",
   "execution_count": 11,
   "id": "fdf55f72",
   "metadata": {
    "ExecuteTime": {
     "end_time": "2023-02-09T11:49:05.762696Z",
     "start_time": "2023-02-09T11:49:05.753727Z"
    }
   },
   "outputs": [
    {
     "data": {
      "text/plain": [
       "array([[271, 267, 269, 280],\n",
       "       [ 29,  33,  31,  20]])"
      ]
     },
     "execution_count": 11,
     "metadata": {},
     "output_type": "execute_result"
    }
   ],
   "source": [
    "# Make a contingency table\n",
    "\n",
    "obs = np.array([[271,267,269,280],[29,33,31,20]])\n",
    "\n",
    "obs"
   ]
  },
  {
   "cell_type": "code",
   "execution_count": 14,
   "id": "533f13ec",
   "metadata": {
    "ExecuteTime": {
     "end_time": "2023-02-09T11:57:30.795639Z",
     "start_time": "2023-02-09T11:57:30.786995Z"
    }
   },
   "outputs": [
    {
     "name": "stdout",
     "output_type": "stream",
     "text": [
      "Test_Statistics =  3.858960685820355 \n",
      " p_value =  0.2771020991233135 \n",
      " dof =  3 \n",
      " Exp_array =  [[271.75 271.75 271.75 271.75]\n",
      " [ 28.25  28.25  28.25  28.25]]\n"
     ]
    }
   ],
   "source": [
    "# Chi-Square Contingency Independence Test\n",
    "\n",
    "t_stat, p_value, dof, expect = stats.chi2_contingency(obs)\n",
    "\n",
    "print(\"Test_Statistics = \",t_stat,\"\\n\",\"p_value = \",p_value,\"\\n\",\"dof = \",dof,\"\\n\",\"Exp_array = \",expect)"
   ]
  },
  {
   "cell_type": "code",
   "execution_count": 15,
   "id": "664af0d3",
   "metadata": {
    "ExecuteTime": {
     "end_time": "2023-02-09T11:57:49.025648Z",
     "start_time": "2023-02-09T11:57:49.012385Z"
    }
   },
   "outputs": [
    {
     "data": {
      "text/plain": [
       "0.2771020991233135"
      ]
     },
     "execution_count": 15,
     "metadata": {},
     "output_type": "execute_result"
    }
   ],
   "source": [
    "p_value"
   ]
  },
  {
   "cell_type": "code",
   "execution_count": 16,
   "id": "747d69e5",
   "metadata": {
    "ExecuteTime": {
     "end_time": "2023-02-09T11:59:05.574727Z",
     "start_time": "2023-02-09T11:59:05.558052Z"
    }
   },
   "outputs": [
    {
     "name": "stdout",
     "output_type": "stream",
     "text": [
      "We fail to reject Null hypothesis\n"
     ]
    }
   ],
   "source": [
    "alpha = 0.05 # Level of significance\n",
    "\n",
    "if p_value <= alpha:\n",
    "    print('We reject Null Hypothesis')\n",
    "else:\n",
    "    print('We fail to reject Null hypothesis')"
   ]
  },
  {
   "cell_type": "markdown",
   "id": "9053c6a8",
   "metadata": {},
   "source": [
    "# As (p_value = 0.2771) > (α = 0.05); Accept Null Hypthesis i.e. Independence of categorical variables Thus, customer order forms defective % does not varies by centre."
   ]
  },
  {
   "cell_type": "code",
   "execution_count": null,
   "id": "1403bb46",
   "metadata": {},
   "outputs": [],
   "source": []
  }
 ],
 "metadata": {
  "kernelspec": {
   "display_name": "Python 3 (ipykernel)",
   "language": "python",
   "name": "python3"
  },
  "language_info": {
   "codemirror_mode": {
    "name": "ipython",
    "version": 3
   },
   "file_extension": ".py",
   "mimetype": "text/x-python",
   "name": "python",
   "nbconvert_exporter": "python",
   "pygments_lexer": "ipython3",
   "version": "3.9.13"
  }
 },
 "nbformat": 4,
 "nbformat_minor": 5
}
